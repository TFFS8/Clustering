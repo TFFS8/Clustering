{
 "cells": [
  {
   "cell_type": "code",
   "execution_count": 1,
   "id": "985ca209",
   "metadata": {},
   "outputs": [],
   "source": [
    "from sklearn.datasets import fetch_openml\n",
    "from sklearn.decomposition import PCA\n",
    "import numpy as np\n",
    "import matplotlib.pyplot as plt\n",
    "%matplotlib inline\n",
    "\n",
    "\n",
    "import umap\n",
    "import hdbscan\n",
    "import sklearn.cluster as cluster\n",
    "from sklearn.metrics import adjusted_rand_score, adjusted_mutual_info_score\n",
    "\n",
    "import nibabel as nib\n",
    "import glob\n",
    "import os.path\n",
    "import scipy"
   ]
  },
  {
   "cell_type": "code",
   "execution_count": 182,
   "id": "0c487d23",
   "metadata": {},
   "outputs": [],
   "source": [
    "path = os.path.join('C:\\\\Users\\\\310304075\\\\Desktop\\\\test/*')\n",
    "\n",
    "image_list = []\n",
    "image_names = []\n",
    "for filename in glob.glob(path):\n",
    "    im=nib.load(filename)\n",
    "    data0 = im.get_fdata()\n",
    "    data1a = data0[:,:,50]\n",
    "    data1b = data0[:,:,60]\n",
    "    data1c = data0[:,:,70]\n",
    "    data1d = data0[:,:,80]\n",
    "    data1e = data0[:,:,90]\n",
    "    data1f = data0[:,:,100]\n",
    "    data1g = data0[:,:,110]\n",
    "    data1h = data0[:,:,120]\n",
    "    data1i = data0[:,:,130]\n",
    "    data1j = data0[:,:,140]\n",
    "    data1l = data0[:,:,40]\n",
    "    data1m = data0[:,:,150]\n",
    "    data1n = data0[:,:,160]\n",
    "    data1o = data0[:,:,170]\n",
    "    data2a = scipy.ndimage.zoom(data1a, (0.5, 0.5), order=3)\n",
    "    data2b = scipy.ndimage.zoom(data1b, (0.5, 0.5), order=3)\n",
    "    data2c = scipy.ndimage.zoom(data1c, (0.5, 0.5), order=3)\n",
    "    data2d = scipy.ndimage.zoom(data1d, (0.5, 0.5), order=3)\n",
    "    data2e = scipy.ndimage.zoom(data1e, (0.5, 0.5), order=3)\n",
    "    data2f = scipy.ndimage.zoom(data1f, (0.5, 0.5), order=3)\n",
    "    data2g = scipy.ndimage.zoom(data1g, (0.5, 0.5), order=3)\n",
    "    data2h = scipy.ndimage.zoom(data1h, (0.5, 0.5), order=3)\n",
    "    data2i = scipy.ndimage.zoom(data1i, (0.5, 0.5), order=3)\n",
    "    data2j = scipy.ndimage.zoom(data1j, (0.5, 0.5), order=3)\n",
    "    data2l = scipy.ndimage.zoom(data1l, (0.5, 0.5), order=3)\n",
    "    data2m = scipy.ndimage.zoom(data1m, (0.5, 0.5), order=3)\n",
    "    data2n = scipy.ndimage.zoom(data1n, (0.5, 0.5), order=3)\n",
    "    data2o = scipy.ndimage.zoom(data1o, (0.5, 0.5), order=3)\n",
    "    data3a= data2a.reshape(-1)\n",
    "    data3b= data2b.reshape(-1) \n",
    "    data3c= data2c.reshape(-1)\n",
    "    data3d= data2d.reshape(-1) \n",
    "    data3e= data2e.reshape(-1)\n",
    "    data3f= data2f.reshape(-1)\n",
    "    data3g= data2g.reshape(-1) \n",
    "    data3h= data2h.reshape(-1)\n",
    "    data3i= data2i.reshape(-1) \n",
    "    data3j= data2j.reshape(-1)\n",
    "    data3l= data2l.reshape(-1) \n",
    "    data3m= data2m.reshape(-1)\n",
    "    data3n= data2n.reshape(-1) \n",
    "    data3o= data2o.reshape(-1)\n",
    "    data4 = np.hstack((data3a,data3b,data3c,data3d,data3e,data3f,data3g,data3h,data3i,data3j,data3l,data3m,data3n,data3o))\n",
    "    image_list.append(data4)\n",
    "    image_names.append(filename)\n",
    "    "
   ]
  },
  {
   "cell_type": "code",
   "execution_count": 183,
   "id": "3d753ea0",
   "metadata": {},
   "outputs": [
    {
     "name": "stdout",
     "output_type": "stream",
     "text": [
      "(99, 2240000)\n"
     ]
    },
    {
     "data": {
      "image/png": "[encoded data removed]",
      "text/plain": [
       "<Figure size 432x288 with 1 Axes>"
      ]
     },
     "metadata": {
      "needs_background": "light"
     },
     "output_type": "display_data"
    }
   ],
   "source": [
    "print (np.shape(image_list))\n",
    "standard_embedding = umap.UMAP(random_state=42).fit_transform(image_list)\n",
    "plt.scatter(standard_embedding[:, 0], standard_embedding[:, 1], s=5, cmap='Spectral');"
   ]
  },
  {
   "cell_type": "code",
   "execution_count": 184,
   "id": "3dc8246c",
   "metadata": {},
   "outputs": [],
   "source": [
    "clusterable_embedding = umap.UMAP(\n",
    "    n_neighbors=30,\n",
    "    min_dist=0,\n",
    "    n_components=2,\n",
    "    random_state=42,\n",
    ").fit_transform(image_list)"
   ]
  },
  {
   "cell_type": "code",
   "execution_count": 185,
   "id": "7cb78406",
   "metadata": {},
   "outputs": [
    {
     "name": "stdout",
     "output_type": "stream",
     "text": [
      "[-1  2  2  2  0  1  0  2 -1  2  0  0  1 -1 -1  1  1  2  0  2  0  0  1 -1\n",
      " -1  1  1  2  0  2  2  1  1  1  1  1  2  2  0  0  2 -1  0  0  2  1  1  2\n",
      "  0  0  2  2 -1  1  0  1  1  0  2  0  1  1  2  0 -1  1  2  1  1  2  1  0\n",
      " -1  1  1  1  0  0  2 -1 -1  2  0  0  2 -1  2  0  1 -1  0  2  2  0  2  0\n",
      "  1  2  2]\n"
     ]
    }
   ],
   "source": [
    "#print (clusterable_embedding)\n",
    "labels = hdbscan.HDBSCAN(\n",
    "    min_samples=4,\n",
    "    min_cluster_size=10,\n",
    ").fit_predict(clusterable_embedding)\n",
    "print (labels)"
   ]
  },
  {
   "cell_type": "code",
   "execution_count": 191,
   "id": "4a33a22f",
   "metadata": {},
   "outputs": [
    {
     "name": "stdout",
     "output_type": "stream",
     "text": [
      "0.8585858585858585\n"
     ]
    },
    {
     "data": {
      "image/png": "[encoded data removed]",
      "text/plain": [
       "<Figure size 432x288 with 1 Axes>"
      ]
     },
     "metadata": {
      "needs_background": "light"
     },
     "output_type": "display_data"
    }
   ],
   "source": [
    "clustered = (labels >= 0)\n",
    "plt.scatter(standard_embedding[~clustered, 0],\n",
    "            standard_embedding[~clustered, 1],\n",
    "            color=(0.5, 0.5, 0.5),\n",
    "            s=5,\n",
    "            alpha=0.5)\n",
    "plt.scatter(standard_embedding[clustered, 0],\n",
    "            standard_embedding[clustered, 1],\n",
    "            c=labels[clustered],\n",
    "            s=20,\n",
    "            cmap='winter');\n",
    "print (np.sum(clustered / 99))"
   ]
  },
  {
   "cell_type": "code",
   "execution_count": 196,
   "id": "e040a574",
   "metadata": {},
   "outputs": [],
   "source": [
    "from pandas import DataFrame\n",
    "\n",
    "df = DataFrame({'name': image_names, 'cluster': labels,'name': image_names, 'pos0': standard_embedding[:,0],'pos1': standard_embedding[:,1]})\n",
    "\n",
    "df.to_excel('C:\\\\Users\\\\310304075\\\\Desktop\\\\test.xlsx', sheet_name='sheet1', index=False)"
   ]
  }
 ],
 "metadata": {
  "kernelspec": {
   "display_name": "Python 3 (ipykernel)",
   "language": "python",
   "name": "python3"
  },
  "language_info": {
   "codemirror_mode": {
    "name": "ipython",
    "version": 3
   },
   "file_extension": ".py",
   "mimetype": "text/x-python",
   "name": "python",
   "nbconvert_exporter": "python",
   "pygments_lexer": "ipython3",
   "version": "3.9.7"
  }
 },
 "nbformat": 4,
 "nbformat_minor": 5
}
